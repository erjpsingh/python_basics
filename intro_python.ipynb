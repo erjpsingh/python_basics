{
 "cells": [
  {
   "cell_type": "markdown",
   "metadata": {},
   "source": [
    "<h4>Some Basic Arithmatic Operators"
   ]
  },
  {
   "cell_type": "code",
   "execution_count": 12,
   "metadata": {},
   "outputs": [
    {
     "name": "stdout",
     "output_type": "stream",
     "text": [
      "13\n",
      "5\n",
      "36\n",
      "2\n",
      "2\n",
      "1\n"
     ]
    }
   ],
   "source": [
    "a=9\n",
    "b=4\n",
    "\n",
    "add = a+b\n",
    "sub = a-b\n",
    "mul = a*b\n",
    "div = a/b\n",
    "\n",
    "#Division floor value \n",
    "div_floor_value = a//b\n",
    "\n",
    "#Mod \n",
    "\n",
    "mod = a%b\n",
    "\n",
    "print((add))\n",
    "print(sub)\n",
    "print(mul)\n",
    "print(div) \n",
    "print(div_floor_value)\n",
    "print(mod)"
   ]
  },
  {
   "cell_type": "markdown",
   "metadata": {},
   "source": [
    "<H4> Logical Operators"
   ]
  },
  {
   "cell_type": "code",
   "execution_count": 31,
   "metadata": {},
   "outputs": [
    {
     "name": "stdout",
     "output_type": "stream",
     "text": [
      "('a and b is', False)\n",
      "('a or b is', True)\n",
      "('not a is', False)\n"
     ]
    }
   ],
   "source": [
    "a = True\n",
    "b = False\n",
    "\n",
    "print(('a and b is',a and b))\n",
    "print(('a or b is',a or b))\n",
    "print(('not a is',not a))"
   ]
  },
  {
   "cell_type": "markdown",
   "metadata": {},
   "source": [
    "<h4> Variables and Data Type"
   ]
  },
  {
   "cell_type": "code",
   "execution_count": 34,
   "metadata": {},
   "outputs": [
    {
     "data": {
      "text/plain": [
       "int"
      ]
     },
     "execution_count": 34,
     "metadata": {},
     "output_type": "execute_result"
    }
   ],
   "source": [
    "# Python is a case sensitive langiage \n",
    "# Variable name can not begin with special chracter except Underscore\n",
    "# Variable can not begin with number\n",
    "# Python does not have datatype for chracter , they are treated as strings\n",
    "\n",
    "jaspreet = 4\n",
    "type(jaspreet)\n"
   ]
  },
  {
   "cell_type": "markdown",
   "metadata": {},
   "source": [
    "<h4> Conditional Statements "
   ]
  },
  {
   "cell_type": "code",
   "execution_count": 5,
   "metadata": {
    "scrolled": true
   },
   "outputs": [
    {
     "name": "stdout",
     "output_type": "stream",
     "text": [
      "make\n"
     ]
    }
   ],
   "source": [
    "#single condition\n",
    "\n",
    "time = 19\n",
    "\n",
    "if(time > 20):\n",
    "    food = 'order'\n",
    "else:\n",
    "    food = 'make'\n",
    "    \n",
    "print(food)"
   ]
  },
  {
   "cell_type": "code",
   "execution_count": 8,
   "metadata": {},
   "outputs": [
    {
     "name": "stdout",
     "output_type": "stream",
     "text": [
      "negative\n"
     ]
    }
   ],
   "source": [
    "#multiple conditions \n",
    "\n",
    "x=-1\n",
    "\n",
    "if(x>0):\n",
    "    print('positive')\n",
    "elif(x<0):\n",
    "    print('negative')\n",
    "else:\n",
    "    print('zero')"
   ]
  },
  {
   "cell_type": "markdown",
   "metadata": {},
   "source": [
    "<h5> Problem : take a number x print even if number is divisible by 2 else odd"
   ]
  },
  {
   "cell_type": "code",
   "execution_count": 10,
   "metadata": {},
   "outputs": [
    {
     "name": "stdout",
     "output_type": "stream",
     "text": [
      "Odd\n"
     ]
    }
   ],
   "source": [
    "x=3\n",
    "\n",
    "if(x%2==0):\n",
    "    print('Even')\n",
    "else:\n",
    "    print('Odd')\n"
   ]
  },
  {
   "cell_type": "markdown",
   "metadata": {},
   "source": [
    "<H5> Problem : take a variable y , print Grade A if y > 90 , B if y>60 but less than or equal to 90 and F otherwise"
   ]
  },
  {
   "cell_type": "code",
   "execution_count": 14,
   "metadata": {},
   "outputs": [
    {
     "name": "stdout",
     "output_type": "stream",
     "text": [
      "Grade B\n"
     ]
    }
   ],
   "source": [
    "y = 89\n",
    "\n",
    "if(y>90):\n",
    "    print('Grade A')\n",
    "elif(y>60 and y<=90):\n",
    "    print('Grade B')\n",
    "else:\n",
    "    print('Grade F')"
   ]
  },
  {
   "cell_type": "markdown",
   "metadata": {},
   "source": []
  },
  {
   "cell_type": "markdown",
   "metadata": {},
   "source": [
    "<h4> For loop "
   ]
  },
  {
   "cell_type": "code",
   "execution_count": 4,
   "metadata": {},
   "outputs": [],
   "source": [
    "for i in '':\n",
    "    print('for loop')"
   ]
  },
  {
   "cell_type": "markdown",
   "metadata": {},
   "source": [
    "<h5> print all odd numbers between 10 and 50"
   ]
  },
  {
   "cell_type": "code",
   "execution_count": 5,
   "metadata": {},
   "outputs": [
    {
     "name": "stdout",
     "output_type": "stream",
     "text": [
      "11\n",
      "13\n",
      "15\n",
      "17\n",
      "19\n",
      "21\n",
      "23\n",
      "25\n",
      "27\n",
      "29\n",
      "31\n",
      "33\n",
      "35\n",
      "37\n",
      "39\n",
      "41\n",
      "43\n",
      "45\n",
      "47\n",
      "49\n"
     ]
    }
   ],
   "source": [
    "# range(a,b) creates a sequence that starts from a to b-1, remember b is not included \n",
    "\n",
    "for i in range(10,50):\n",
    "    if(i%2 != 0):\n",
    "        print(i)"
   ]
  },
  {
   "cell_type": "code",
   "execution_count": 6,
   "metadata": {},
   "outputs": [
    {
     "name": "stdout",
     "output_type": "stream",
     "text": [
      "11\n",
      "13\n",
      "15\n",
      "17\n",
      "19\n",
      "21\n",
      "23\n",
      "25\n",
      "27\n",
      "29\n",
      "31\n",
      "33\n",
      "35\n",
      "37\n",
      "39\n",
      "41\n",
      "43\n",
      "45\n",
      "47\n",
      "49\n"
     ]
    }
   ],
   "source": [
    "# range(a,b,c)  here c is the value added after each a \n",
    "\n",
    "for i in range(11,50, 2):\n",
    "    print(i)"
   ]
  },
  {
   "cell_type": "markdown",
   "metadata": {},
   "source": [
    "<H4> Functions in Python "
   ]
  },
  {
   "cell_type": "code",
   "execution_count": 4,
   "metadata": {},
   "outputs": [
    {
     "name": "stdout",
     "output_type": "stream",
     "text": [
      "3.14\n"
     ]
    }
   ],
   "source": [
    "# Functions are re-usable piece of code , created to solve specific problems \n",
    "# function can be built in or user defiened \n",
    "\n",
    "def area_of_circle(radius):\n",
    "    area = 3.14*radius*radius\n",
    "    return area\n",
    "print(area_of_circle(1))"
   ]
  },
  {
   "cell_type": "code",
   "execution_count": 15,
   "metadata": {},
   "outputs": [
    {
     "data": {
      "text/plain": [
       "2"
      ]
     },
     "execution_count": 15,
     "metadata": {},
     "output_type": "execute_result"
    }
   ],
   "source": [
    "# create a function with two arguments and return the greator of the two !\n",
    "\n",
    "def greator_function(arg1, arg2):\n",
    "    if(arg1>arg2):\n",
    "        return arg1\n",
    "    \n",
    "    elif(arg1 == arg2):\n",
    "        return 'Numbers ar eequal'\n",
    "    \n",
    "    else:\n",
    "        return arg2\n",
    "\n",
    "\n",
    "greator_function(1,2)"
   ]
  },
  {
   "cell_type": "markdown",
   "metadata": {},
   "source": [
    "<H4> Data Structures "
   ]
  },
  {
   "cell_type": "code",
   "execution_count": null,
   "metadata": {},
   "outputs": [],
   "source": [
    "# in built data types are fixed \n",
    "# what if you want to store information of an object for example car \n",
    "# Variables are also unfit for storing structured data\n",
    "# List is synchronous but dictionary is asynchoronous "
   ]
  },
  {
   "cell_type": "markdown",
   "metadata": {},
   "source": [
    "<h5> List - an ordered data structure "
   ]
  },
  {
   "cell_type": "markdown",
   "metadata": {},
   "source": [
    "<i>imagine a scenario of storing marks of students roll number wise , can variables solve this problem , of-course not</i> \n",
    "\n",
    "<h6>We will learn about <br>\n",
    "<ul>\n",
    "<li>What is a List ?\n",
    "<li>Traversing  a List.\n",
    "<li>Adding and Deleting elements.\n",
    "<li>looping over a list\n",
    "\n",
    "\n",
    "\n",
    "</ul>\n",
    "\n",
    "\n",
    "\n",
    "\n",
    "\n",
    "\n",
    "\n"
   ]
  },
  {
   "cell_type": "markdown",
   "metadata": {},
   "source": [
    "<i>List is an ordered data structures , where in elements are seperated by commas and exclosed in square brackets </i>\n",
    "\n",
    "example : list1 = [1,2,3]\n",
    "\n",
    "          list2 = ['a','b','c']\n",
    "          \n",
    "          list3 = [1,'a', 2,'b', 3, 'c']"
   ]
  },
  {
   "cell_type": "code",
   "execution_count": 22,
   "metadata": {},
   "outputs": [
    {
     "name": "stdout",
     "output_type": "stream",
     "text": [
      "1\n",
      "['a', 2, 'b', 3]\n",
      "c\n"
     ]
    }
   ],
   "source": [
    "# creating and traversing list \n",
    "list3 = [1,'a', 2,'b', 3, 'c']\n",
    "\n",
    "print(list3[0])\n",
    "print(list3[1:5])\n",
    "print(list3[-1])\n"
   ]
  },
  {
   "cell_type": "code",
   "execution_count": 28,
   "metadata": {
    "collapsed": true
   },
   "outputs": [
    {
     "name": "stdout",
     "output_type": "stream",
     "text": [
      "[1, 'a', 2, 'b', 3, 'c', 4, 4, 5, 6, 4, 6, 7]\n",
      "[1, 'a', 2, 'b', 3, 'c', 4, 4, 5, 6, 4, 6, 7, 4]\n",
      "[1, 'a', 2, 'b', 3, 'c', 4, 4, 5, 6, 4, 6, 7, 4, 6, 7]\n",
      "[1, 'a', 2, 'b', 3, 'c', 4, 4, 5, 6, 4, 6, 7, 4, 6, 7, ['x', 'y', 'z']]\n"
     ]
    }
   ],
   "source": [
    "#Adding removing elements from a list\n",
    "\n",
    "print(list3)\n",
    "\n",
    "# adding a single element\n",
    "list3.append(4)\n",
    "\n",
    "print(list3)\n",
    "\n",
    "#adding multiple elements, please note extend takes list as an input\n",
    "\n",
    "list3.extend([6,7])\n",
    "\n",
    "print(list3)\n",
    "\n",
    "\n",
    "\n",
    "#adding list to a list\n",
    "\n",
    "list3.append(['x','y','z'])\n",
    "\n",
    "print(list3)"
   ]
  },
  {
   "cell_type": "code",
   "execution_count": 36,
   "metadata": {},
   "outputs": [
    {
     "name": "stdout",
     "output_type": "stream",
     "text": [
      "['a', 'b', 3, 'c', 4, 4, 5, 6, 4, 6, 7, 4, 6, 7, ['x', 'y', 'z']]\n",
      "['a', 'b', 3, 'c', 4, 4, 5, 6, 4, 6, 7, 4, 6, 7, ['x', 'y', 'z']]\n",
      "['b', 3, 'c', 4, 4, 5, 6, 4, 6, 7, 4, 6, 7, ['x', 'y', 'z']]\n"
     ]
    }
   ],
   "source": [
    "# Deleting a element from list\n",
    "\n",
    "#by value \n",
    "print(list3)\n",
    "\n",
    "ist3.remove(2)\n",
    " \n",
    "print(list3)\n",
    "\n",
    "\n",
    "\n",
    "# by using index\n",
    "del list3[0]\n",
    "\n",
    "print(list3)"
   ]
  },
  {
   "cell_type": "code",
   "execution_count": 37,
   "metadata": {},
   "outputs": [
    {
     "name": "stdout",
     "output_type": "stream",
     "text": [
      "b\n",
      "3\n",
      "c\n",
      "4\n",
      "4\n",
      "5\n",
      "6\n",
      "4\n",
      "6\n",
      "7\n",
      "4\n",
      "6\n",
      "7\n",
      "['x', 'y', 'z']\n"
     ]
    }
   ],
   "source": [
    "# loop over a list\n",
    "\n",
    "for i in list3:\n",
    "    print(i)"
   ]
  },
  {
   "cell_type": "markdown",
   "metadata": {},
   "source": [
    "<h4> Dictionaries - an un-ordered data structure "
   ]
  },
  {
   "cell_type": "markdown",
   "metadata": {},
   "source": [
    "<h6> What are we going to learn about dictionary ?\n",
    "<br>\n",
    "<ul>\n",
    "<li> What is dictionary\n",
    "<li> Accessing elements of dictionary\n",
    "<li> Adding and removing elements from a dictionary"
   ]
  },
  {
   "cell_type": "code",
   "execution_count": 39,
   "metadata": {},
   "outputs": [
    {
     "name": "stdout",
     "output_type": "stream",
     "text": [
      "9\n"
     ]
    }
   ],
   "source": [
    "# it is a un-ordered data structures whith elements seperated by comma, stored as key:value\n",
    " \n",
    "dict1 = {'Ramesh':10, 'Suresh':9, 'Divya':5}\n",
    "dict2 = {'Ramesh':[1,2], 'Suresh': 9}\n",
    "\n",
    "# elememts can not be accessed by indexes, only use key\n",
    "\n",
    "print(dict1['Suresh'])"
   ]
  },
  {
   "cell_type": "code",
   "execution_count": 41,
   "metadata": {},
   "outputs": [
    {
     "name": "stdout",
     "output_type": "stream",
     "text": [
      "{'Anusha': 2, 'Ramesh': 10, 'Saurabh': 1, 'Suresh': 9, 'Divya': 5, 'Venkat': 5}\n"
     ]
    }
   ],
   "source": [
    "# Adding elements to dictionary\n",
    "\n",
    "#adding single element\n",
    "dict1['Venkat'] = 5\n",
    "\n",
    "\n",
    "#adding multiple elements using key value pairs , it will take dictionary in input\n",
    "\n",
    "dict1.update({'Anusha':2, 'Saurabh':1})\n",
    "\n",
    "print(dict1)"
   ]
  },
  {
   "cell_type": "code",
   "execution_count": 42,
   "metadata": {},
   "outputs": [
    {
     "name": "stdout",
     "output_type": "stream",
     "text": [
      "{'Anusha': 2, 'Ramesh': 10, 'Saurabh': 1, 'Divya': 5, 'Venkat': 5}\n"
     ]
    }
   ],
   "source": [
    "#Deleting an element from dictionary\n",
    "\n",
    "del dict1['Suresh']\n",
    "\n",
    "print(dict1)\n"
   ]
  },
  {
   "cell_type": "markdown",
   "metadata": {},
   "source": [
    "<h4> Standard libraries , modules and packages"
   ]
  },
  {
   "cell_type": "markdown",
   "metadata": {},
   "source": [
    "<h6>Standard Libraries </h6>\n",
    "<p>These include built in functions , contants, data types and file formats, to use these we need not to import anything.\n",
    "    \n",
    "    \n",
    "\n",
    "<h6>Modules</h6>\n",
    "<p>It could be thought of as a python files with list of functions. for instance arithmatic.py with addition() function\n",
    "    \n",
    "<h6>Package</h6>\n",
    "<p> Package is a group of modules.Eg arithmatic.py + logical.py = operator.py\n",
    "    \n",
    "<h6>How to import functions from packages</h6>\n",
    "<p> from operator.arithmatic import addition  --> addition(1,2) <br>\n",
    "    from operator import arithmatic           --> arithmatic.addition(1,2)\n",
    "    \n",
    "    "
   ]
  },
  {
   "cell_type": "code",
   "execution_count": null,
   "metadata": {},
   "outputs": [],
   "source": []
  }
 ],
 "metadata": {
  "kernelspec": {
   "display_name": "Python 2",
   "language": "python",
   "name": "python2"
  },
  "language_info": {
   "codemirror_mode": {
    "name": "ipython",
    "version": 2
   },
   "file_extension": ".py",
   "mimetype": "text/x-python",
   "name": "python",
   "nbconvert_exporter": "python",
   "pygments_lexer": "ipython2",
   "version": "2.7.15rc1"
  }
 },
 "nbformat": 4,
 "nbformat_minor": 2
}
